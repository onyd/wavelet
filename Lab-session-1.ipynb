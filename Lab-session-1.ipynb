{
 "cells": [
  {
   "cell_type": "markdown",
   "metadata": {},
   "source": [
    "# Lab session 1: 1D Continous Wavelet Transform\n",
    "\n",
    "## Prerequisite\n",
    "\n",
    "### Install Anaconda and PyWavelet\n",
    "\n",
    "* The simplest is to download the Anaconda distribution (including PyWavelet) : https://www.anaconda.com/ \n",
    "* Or follows these instructions: https://pywavelets.readthedocs.io/en/latest/install.html\n",
    "* Read the documentation on Pywavelet: https://pywavelets.readthedocs.io/_/downloads/en/v0.5.1/pdf/\n",
    "* Code available on Github (to know how it is implemented): https://github.com/PyWavelets/pywt/tree/580d79d9440ec0f4f936892e39c79ad13a8fd33b \n",
    "\n",
    "### Instructions\n",
    "\n",
    "* Fill empty codes and answer the questions in the notebook\n",
    "* Drop on TEIDE an archive (with your NAME in capital letters, separated by an underscore for teams NAME1_NAME2) containing:\n",
    "    * your completed notebook (the python code .ipynb)\n",
    "    * the corresponding exported PDF\n",
    "* **Deadline: November 13 (23h59)**. \n",
    "\n",
    "### Mark scheme\n",
    "\n",
    "* This practical work is graded out of 20 points (but at the end the two lab sessions will represent a quarter of the final mark, i.e 2,5 points each)\n",
    "* Hand in overdue: -10% per day\n",
    "* Plagiarism: mark divided by 2 (copy/paste from the internet or other groups is forbidden)\n",
    "\n",
    "### Packages"
   ]
  },
  {
   "cell_type": "code",
   "execution_count": null,
   "metadata": {},
   "outputs": [],
   "source": [
    "import numpy as np\n",
    "import matplotlib.pyplot as plt\n",
    "from scipy.fftpack import fft\n",
    "import pywt\n",
    "from pylab import*\n",
    "import scaleogram as scg"
   ]
  },
  {
   "cell_type": "markdown",
   "metadata": {},
   "source": [
    "## Fourier transform limitation in a nutschell\n",
    "\n",
    "**Question 1** *(2 points)*: Let's compute the Fourier transform of 2 signals made of\n",
    "1. The superposition of 4 sinusoids with different frequencies on $[0,1]$ (notes played together)\n",
    "2. The concatenation of these 4 sinusoids each with duration $1/4$ on $[0,1]$ (notes played successively)\n",
    "\n",
    "**Answer 1**:"
   ]
  },
  {
   "cell_type": "code",
   "execution_count": null,
   "metadata": {
    "scrolled": true
   },
   "outputs": [],
   "source": [
    "def fft_compute(y, T, N):\n",
    "    f = np.linspace(0.0, 1.0/(2.0*T), N//2)\n",
    "    fft_y = fft(y)\n",
    "    fft_y = 2.0/N * np.abs(fft_y[0:N//2])\n",
    "    return f, fft_y\n",
    "\n",
    "N = 1000\n",
    "T = 1.0/N\n",
    " \n",
    "x = np.linspace(0, 1, num=N)\n",
    " \n",
    "freq = [8, 20, 35, 50]\n",
    "np.random.shuffle(freq)\n",
    "\n",
    "# ANSWER :\n",
    "y_superp = np.sum([np.sin(2 * np.pi * freq[i] * x) for i in range(4)], axis=0)\n",
    "sub_array = np.split(x, 4)\n",
    "y_concat = np.concatenate([np.sin(2 * np.pi * freq[i] * sub_array[i]) for i in range(4)])\n",
    " \n",
    "f1, fft_superp = fft_compute(y_superp, T, N)\n",
    "f2, fft_concat = fft_compute(y_concat, T, N)\n",
    "\n",
    "plt.figure(figsize=(12, 6))\n",
    "plt.subplot(221)\n",
    "plt.plot(x, y_superp)\n",
    "plt.title('signal from superposition')\n",
    "plt.xlabel('time')\n",
    "\n",
    "plt.subplot(223)\n",
    "plt.plot(x, y_concat)\n",
    "plt.title('signal from concatenation')\n",
    "plt.xlabel('time')\n",
    "\n",
    "plt.subplot(222)\n",
    "plt.plot(f1, fft_superp, 'r')\n",
    "plt.xlim(0, 60)\n",
    "plt.title('FFT of the superposition signal')\n",
    "plt.xlabel('frequency')\n",
    "\n",
    "plt.subplot(224)\n",
    "plt.plot(f2, fft_concat, 'r')\n",
    "plt.xlim(0, 60)\n",
    "plt.title('FFT of the concatenation signal')\n",
    "plt.xlabel('frequency')\n",
    " \n",
    "plt.tight_layout()\n",
    "plt.show()"
   ]
  },
  {
   "cell_type": "markdown",
   "metadata": {},
   "source": [
    "**Question 2** *(2 points)*: \n",
    "* Explain why the peaks on the concatenate version is more spread\n",
    "* Try to exchange the order of the concatenation. Conclusion?\n",
    "\n",
    "**Answer** \n",
    "First, we observe that the concatenated signal is not regular (the superposed signal is regular). It could also be interpreted as the sum of windowed signal leading to sinus cardinal (sinc) spread on the spectrogram. \n",
    "\n",
    "After exchange order of concatenation :\n",
    "\n",
    "For the concatenation spectrogram, we observe that is is not always the very same results, but it looks similar (the dominants spikes remains at the same place). This can be explained by the presence of irregularities between each window (we tried with only one frequency on 1/4 of the signal, in this case only the sinc deformation appear)"
   ]
  },
  {
   "cell_type": "markdown",
   "metadata": {},
   "source": [
    "## Some signals to play with\n",
    "\n",
    "The *PyWavelet package* provides a list of signals demo:"
   ]
  },
  {
   "cell_type": "code",
   "execution_count": null,
   "metadata": {},
   "outputs": [],
   "source": [
    "signals = pywt.data.demo_signal('list')\n",
    "\n",
    "print(signals)\n",
    "print(len(signals))"
   ]
  },
  {
   "cell_type": "markdown",
   "metadata": {},
   "source": [
    "To get the values of a signal and display it:"
   ]
  },
  {
   "cell_type": "code",
   "execution_count": null,
   "metadata": {},
   "outputs": [],
   "source": [
    "signal_length = 1024\n",
    "y = pywt.data.demo_signal('Piece-Regular', signal_length)\n",
    "plt.figure(figsize=(12, 6))\n",
    "plt.plot(y)\n",
    "plt.show()"
   ]
  },
  {
   "cell_type": "markdown",
   "metadata": {},
   "source": [
    "**Question 3** *(2 points)*: Display in a loop the others signal in different subplots. You will especially make appear both the real and imaginary parts of the Gabor signal."
   ]
  },
  {
   "cell_type": "code",
   "execution_count": null,
   "metadata": {},
   "outputs": [],
   "source": [
    "fig, axs = plt.subplots(nrows=4, ncols=5)\n",
    "fig.set_size_inches(25, 15)\n",
    "\n",
    "# plot 15 first signals :\n",
    "for i in range(3):\n",
    "    for j in range(5):\n",
    "        axs[i, j].plot(pywt.data.demo_signal(signals[i * 5 + j], signal_length))\n",
    "        axs[i, j].set_title(signals[i * 5 + j])\n",
    "\n",
    "axs[3, 0].plot(pywt.data.demo_signal('Piece-Regular', signal_length))\n",
    "axs[3, 0].set_title('Piece-Regular')\n",
    "\n",
    "axs[3, 1].plot(pywt.data.demo_signal('Piece-Polynomial', signal_length))\n",
    "axs[3, 1].set_title('Piece-Polynomial')\n",
    "\n",
    "axs[3, 2].plot(pywt.data.demo_signal('Riemann', signal_length))\n",
    "axs[3, 2].set_title('Riemann')\n",
    "\n",
    "gabor = pywt.data.demo_signal('Gabor')\n",
    "axs[3, 3].plot(np.real(gabor))\n",
    "axs[3, 3].set_title('Gabor real')\n",
    "axs[3, 4].plot(np.imag(gabor))\n",
    "axs[3, 4].set_title('Gabor imaginary')\n",
    "\n",
    "\n",
    "plt.show()\n",
    "\n"
   ]
  },
  {
   "cell_type": "markdown",
   "metadata": {},
   "source": [
    "## Familiarize yourself with the family of continuous wavelets"
   ]
  },
  {
   "cell_type": "markdown",
   "metadata": {},
   "source": [
    "Display the family of all wavelets available in *PyWavelet*:"
   ]
  },
  {
   "cell_type": "code",
   "execution_count": null,
   "metadata": {},
   "outputs": [],
   "source": [
    "print(pywt.families(short=False))"
   ]
  },
  {
   "cell_type": "markdown",
   "metadata": {},
   "source": [
    "For such a family (for instance the *Debauchies wavelets*), all the available wavelets are given by:"
   ]
  },
  {
   "cell_type": "code",
   "execution_count": null,
   "metadata": {},
   "outputs": [],
   "source": [
    "print(pywt.wavelist('db')) # Daubechies wavelets"
   ]
  },
  {
   "cell_type": "markdown",
   "metadata": {},
   "source": [
    "The **continuous wavelet** are given by:"
   ]
  },
  {
   "cell_type": "code",
   "execution_count": null,
   "metadata": {},
   "outputs": [],
   "source": [
    "print(pywt.wavelist(kind='continuous'))"
   ]
  },
  {
   "cell_type": "markdown",
   "metadata": {},
   "source": [
    "To read the characteristics of a particular wavelet:"
   ]
  },
  {
   "cell_type": "code",
   "execution_count": null,
   "metadata": {
    "scrolled": true
   },
   "outputs": [],
   "source": [
    "w = pywt.ContinuousWavelet('gaus2')\n",
    "print(w)"
   ]
  },
  {
   "cell_type": "markdown",
   "metadata": {},
   "source": [
    "### Vizualize some classical continuous wavelets\n",
    "\n",
    "**Question 4** *(1 points)*: Display in a loop all the continous wavelets in different subplots.\n",
    "\n",
    "*Hint: To compute an approximation of the scaling function (psi) use the command `wavefun` (see documentation for more details: https://pywavelets.readthedocs.io/en/latest/ref/wavelets.html)*"
   ]
  },
  {
   "cell_type": "code",
   "execution_count": null,
   "metadata": {},
   "outputs": [],
   "source": [
    "continuous_wavelets = pywt.wavelist(kind='continuous')\n",
    "level = 10\n",
    "print(len(continuous_wavelets))\n",
    "\n",
    "fig, axs = plt.subplots(nrows=5, ncols=5)\n",
    "fig.set_size_inches(25, 15)\n",
    "\n",
    "# plot 15 first signals :\n",
    "for i in range(5):\n",
    "    for j in range(5):\n",
    "        if i * 5 + j < 21:\n",
    "            w = pywt.ContinuousWavelet(continuous_wavelets[i * 5 + j])\n",
    "            psi, x = w.wavefun(level=level)\n",
    "            axs[i, j].plot(x, psi)\n",
    "            axs[i, j].set_title(continuous_wavelets[i * 5 + j])\n",
    "\n",
    "plt.show()\n"
   ]
  },
  {
   "cell_type": "markdown",
   "metadata": {},
   "source": [
    "### Vizualize the scaling of the Morlet wavelet in time and frequency domains"
   ]
  },
  {
   "cell_type": "markdown",
   "metadata": {},
   "source": [
    "**Question 5** *(3 points)*: Plot wavelets at different scales from a given mother wavelet, as well as their Fourier transforms\n",
    "\n",
    "To vizualize the mother wavelet one can use the `scaleogram` package (see the documentation https://github.com/alsauve/scaleogram/blob/master/doc/tests.ipynb and https://github.com/alsauve/scaleogram/blob/master/doc/scale-to-frequency.ipynb):"
   ]
  },
  {
   "cell_type": "code",
   "execution_count": null,
   "metadata": {},
   "outputs": [],
   "source": [
    "time_scale = ['0.1', '0.5', '1', '5', '10']\n",
    "freq_scale = ['0.2', '0.5', '1', '2', '5']\n",
    "\n",
    "for i in range(5):\n",
    "    axes = scg.plot_wav('cmor' + time_scale[i] + '-' + freq_scale[i], figsize=(14,3))\n",
    "\n"
   ]
  },
  {
   "cell_type": "markdown",
   "metadata": {},
   "source": [
    "## The 1D Continuous Wavelet Transform (CWT)\n",
    "\n",
    "### Compute the CWT\n",
    "\n",
    "The function `pywt.cwt` enables to compute the CWT of a discrete signals at different scales.\n",
    "\n",
    "See the documentation: https://pywavelets.readthedocs.io/en/latest/ref/cwt.html\n",
    "\n",
    "In theory the CWT is defined in a continuous domain. But in practise, we always deal with input discretized signals and compute the wavelet transform for specific given scales which are also sampled. Then numerically we compute an approximation of the CWT of a discrete signal $\\mathbf{f}=\\{f_i\\}_{i\\in \\mathbb{Z}}$, obtained by sampling a continuous function $f^0$ on a regular discrete grid $\\{x_i\\}_{i\\in \\mathbb{Z}}$ that is $f_i=f^0(x_i)$ and $x_{i+1}=x_{i}+\\Delta$. Then we consider the piecewise constant function $f$ defined by \n",
    "\n",
    "$$ f(x)=\\sum_i f_i \\chi_{[x_i, x_{i+1}]} $$\n",
    "\n",
    "Therefore, the CWT of the continuous function $f$ is given by:\n",
    "\n",
    "\\begin{align}\n",
    "    Wf(a,b) & = \\frac{1}{\\sqrt{a}}\\int_{\\mathbb{R}} f(x) \\overline{\\psi\\left(\\frac{x-b}{a}\\right)}\\mathrm{d}x \\\\\n",
    "            & = \\frac{1}{\\sqrt{a}}\\sum_{i\\in \\mathbb{Z}} f_i \\int_{x_i}^{x_{i+1}} \\overline{\\psi\\left(\\frac{x-b}{a}\\right)}\\mathrm{d}x \\\\\n",
    "            & = \\frac{1}{\\sqrt{a}}\\sum_{i\\in \\mathbb{Z}} f_i \\left(\\int_{-\\infty}^{x_{i+1}} \\overline{\\psi\\left(\\frac{x-b}{a}\\right)}\\mathrm{d}x - \\int_{-\\infty}^{x_{i}} \\overline{\\psi\\left(\\frac{x-b}{a}\\right)}\\mathrm{d}x\\right) \\\\\n",
    "            & = \\sqrt{a}\\sum_{i\\in \\mathbb{Z}} f(x_i) \\left(\\overline{\\psi_{\\mathrm{int}}^a(x_{i+1}-b)}-\\overline{\\psi_{\\mathrm{int}}^a(x_{i}-b)}\\right) \\\\\n",
    "            & = \\sqrt{a}\\sum_{i\\in \\mathbb{Z}} f(x_i) \\left(\\overline{\\psi_{\\mathrm{int}}^a(x_{i}-(b-\\Delta))}-\\overline{\\psi_{\\mathrm{int}}^a(x_{i}-b)}\\right) \\\\\n",
    "            & = -\\sqrt{a}\\left[ (f\\ast \\psi_{\\mathrm{int}}^a)(b) - (f\\ast \\psi_{\\mathrm{int}}^a)(b-\\Delta)\\right]\n",
    "\\end{align}\n",
    "\n",
    "with\n",
    "\n",
    "$$ \\psi_{\\mathrm{int}}^a(y) \\overset{\\mathrm{def}}{=} \\frac{1}{a} \\int_{-\\infty}^y \\psi\\left(\\frac{x}{a}\\right) \\mathrm{d}x = \\int_{-\\infty}^{y/a} \\psi\\left(u\\right) \\mathrm{d}u = \\psi_{\\mathrm{int}}^1\\left(\\frac{y}{a}\\right) $$\n",
    "\n",
    "If the translation parameter $b$ is sampled on the same grid $\\{x_i\\}_{i\\in \\mathbb{Z}}$ then we get:\n",
    "\n",
    "$$ Wf(a, \\{x_i\\}) = -\\sqrt{a}\\, \\mathrm{diff}\\, [ \\mathbf{f} \\star \\psi_{\\mathrm{int}}^a(\\{x_i\\}) ] $$"
   ]
  },
  {
   "cell_type": "markdown",
   "metadata": {},
   "source": [
    "**Question 6** *(3,5 points)*: Apply the CWT to reproduce the 6 examples given in the course:\n",
    "* Example 1: pure cosine\n",
    "* Example 2: a Dirac\n",
    "* Example 3: the periodic square wave\n",
    "* Example 4: a modulated wave\n",
    "* Example 5: 2 sinusoids with noise\n",
    "* Example 6: Holder function of exponant 1/2\n",
    "\n",
    "*Hint:* Consider for the first example a cosine with frequency $f=50~Hz$ on $[0,1]$ with a sampling rate $f_s=\\frac{1}{400}$, compute its CWT onto scales from 1 to 50 and display the corresponding scalogram (by plotting the coef/freqs in output of `pywt.cwt`). Check that you vizually detect the frequency $f$."
   ]
  },
  {
   "cell_type": "code",
   "execution_count": null,
   "metadata": {},
   "outputs": [],
   "source": [
    "from scipy import signal\n",
    "\n",
    "N = 400 # sampling rate in time\n",
    "x = np.linspace(0, 1, N)\n",
    "freq = 50 # main frequency for following signals\n",
    "\n",
    "functions = [\n",
    "    (np.cos(2 * np.pi * freq * x), 'cos'),\n",
    "    (np.concatenate([np.ones((1)), np.zeros(len(x) - 1)]), 'Dirac'),\n",
    "    (signal.square(2 * np.pi * freq / 6 * x), 'Square Wave'),\n",
    "    (signal.chirp(x, f0=50, f1=0.5, t1=1, method='linear'), 'Frequenced modulated wave'),\n",
    "    (np.sin(2 * np.pi * freq * x) + np.sin(2 * np.pi * (freq / 2) * x) + np.random.normal(0, 0.3, size=N), \n",
    "    '2 sin with noise'),\n",
    "    (np.sqrt(np.abs(np.cos(2 * np.pi * 2 * x))), 'Holder function of exponant 1/2') \n",
    "    # doubled the frequency of Holder fct to have a better overview\n",
    "]\n",
    "\n",
    "# print signals :\n",
    "n = len(functions)\n",
    "fig, axs = plt.subplots(nrows=len(functions), ncols=1)\n",
    "fig.set_size_inches(20, 20)\n",
    "for i in range(n):\n",
    "    axs[i].plot(x, functions[i][0])\n",
    "    axs[i].set_title(functions[i][1])\n",
    "\n",
    "# plot scalogram :\n",
    "scale = np.arange(1, 50)\n",
    "fig, axs = plt.subplots(nrows=len(functions), ncols=1)\n",
    "fig.set_size_inches(20, 20)\n",
    "fig.tight_layout(pad=2.2)\n",
    "for i in range(n):\n",
    "    coefs, frequencies = pywt.cwt(\n",
    "        functions[i][0], scale, 'morl', sampling_period=1/N)\n",
    "    axs[i].matshow(coefs, extent=[0, 1, 1, 50], cmap='PRGn', aspect='auto', vmax=abs(\n",
    "        coefs).max(), vmin=-abs(coefs).max())\n",
    "    axs[i].set_title(\"Scalogram of \" + functions[i][1])\n"
   ]
  },
  {
   "cell_type": "markdown",
   "metadata": {},
   "source": [
    "**Question 7** *(2 points)*: Same question applied to both examples of Question 1 (superposition and concatenation). Can you detect all the frequencies and their localization?"
   ]
  },
  {
   "cell_type": "code",
   "execution_count": null,
   "metadata": {},
   "outputs": [],
   "source": [
    "# y_concat, y_superp\n",
    "freq = [10, 25, 50, 100] # change the frequency in order to see well each freq\n",
    "y_superp = np.sum([np.sin(2 * np.pi * freq[i] * x) for i in range(4)], axis=0)\n",
    "sub_array = np.split(x, 4)\n",
    "y_concat = np.concatenate(\n",
    "    [np.sin(2 * np.pi * freq[i] * sub_array[i]) for i in range(4)])\n",
    "\n",
    "functions = [(y_concat, 'concat sin'),\n",
    "            (y_superp, 'superp sin')]\n",
    "fig, axs = plt.subplots(nrows=2, ncols=1)\n",
    "fig.set_size_inches(10, 20)\n",
    "fig.tight_layout(pad=2.2)\n",
    "for i in range(2):\n",
    "    coefs, frequencies = pywt.cwt(\n",
    "        functions[i][0], scale, 'morl', sampling_period=1/N)\n",
    "    axs[i].matshow(coefs, extent=[0, 1, 1, 50], cmap='PRGn', aspect='auto', vmax=abs(\n",
    "        coefs).max(), vmin=-abs(coefs).max())\n",
    "    axs[i].set_title(\"Scalogram of \" + functions[i][1])\n"
   ]
  },
  {
   "cell_type": "markdown",
   "metadata": {},
   "source": [
    "**Question 8** *(3 points)*: After applying the CWT to the previous demo-signal 'Piece-Regular', you will emulate the maxima lines by finding local peaks at each scale (without chain them)\n",
    "\n",
    "Suggestions:\n",
    "* https://github.com/MonsieurV/py-findpeaks\n",
    "* https://github.com/buckie/wtmm-python"
   ]
  },
  {
   "cell_type": "code",
   "execution_count": null,
   "metadata": {},
   "outputs": [],
   "source": [
    "signal_length = 1024\n",
    "piece_regular = pywt.data.demo_signal('Piece-Regular', signal_length)\n",
    "scale = np.arange(1, 50)\n",
    "\n",
    "coefs, frequencies = pywt.cwt(\n",
    "    piece_regular, scale, 'morl', sampling_period=1/N)\n",
    "\n",
    "# Peaks search \n",
    "maxima_lines = []\n",
    "for c in coefs:\n",
    "    indexes, _ = signal.find_peaks(c)\n",
    "    maxed = np.zeros(shape=(len(c),))\n",
    "    for i in indexes:\n",
    "        maxed[i] = c[i]\n",
    "    maxima_lines.append(maxed)\n",
    "maxima_lines = np.array(maxima_lines)\n",
    "\n",
    "# Peaks scaleogram\n",
    "fig, ax = plt.subplots()\n",
    "fig.set_size_inches(15, 8)\n",
    "fig.tight_layout(pad=2.2)\n",
    "ax.matshow(maxima_lines, extent=(0, 1024, 1, 200), cmap='PRGn', aspect='auto', vmax=abs(\n",
    "    maxima_lines).max(), vmin=-abs(maxima_lines).max())\n",
    "ax.set_title(\"Scalogram of Piece-Regular\")"
   ]
  },
  {
   "cell_type": "markdown",
   "metadata": {},
   "source": [
    "**Question 9** *(1,5 points)*: Compute the CWT of a fractional Brownian motion with Hölder exponent 1/2\n",
    "\n",
    "Use the `fbm` package: https://github.com/crflynn/fbm \n",
    "\n"
   ]
  },
  {
   "cell_type": "code",
   "execution_count": null,
   "metadata": {},
   "outputs": [],
   "source": [
    "from fbm import FBM\n",
    "\n",
    "f = FBM(n=1024, hurst=0.75, length=1, method='daviesharte')\n",
    "# Generate a fBm realization\n",
    "fbm_sample = f.fbm()\n",
    "\n",
    "plot(fbm_sample, label=\"fbm\")\n",
    "exponant = 1/2\n",
    "fbm_holder = np.power(np.abs(fbm_sample), exponant)\n",
    "plot(fbm_holder, label=\"hölder fbm (exponant \" + str(exponant) + \")\")\n",
    "\n",
    "legend()\n",
    "grid()\n",
    "title('Fractional Brownian')\n",
    "show()\n",
    "\n",
    "# fbm\n",
    "coefs_fbm, frequencies_fbm = pywt.cwt(\n",
    "    fbm_sample, scale, 'morl', sampling_period=1/1024)\n",
    "matshow(coefs_fbm, extent=[0, 1, 1, 200], cmap='PRGn', aspect='auto', vmax=abs(\n",
    "        coefs_fbm).max(), vmin=-abs(coefs_fbm).max())\n",
    "\n",
    "# holder fbm\n",
    "coefs_fbm_holder, frequencies_fbm_holder = pywt.cwt(\n",
    "    fbm_holder, scale, 'morl', sampling_period=1/1024)\n",
    "matshow(coefs_fbm_holder, extent=[0, 1, 1, 200], cmap='PRGn', aspect='auto', vmax=abs(\n",
    "        coefs_fbm_holder).max(), vmin=-abs(coefs_fbm_holder).max())\n"
   ]
  },
  {
   "cell_type": "markdown",
   "metadata": {},
   "source": [
    "**Question 10 (Bonus)** *(2 points)*: Recover the Hölder exponent by computing the slope of decrease of the wavelet coefficients."
   ]
  },
  {
   "cell_type": "code",
   "execution_count": null,
   "metadata": {},
   "outputs": [],
   "source": [
    "a = np.flip(np.abs(coefs_fbm).mean(axis=1)) # apply |.|1 norm to coefficients\n",
    "b = np.flip(np.abs(coefs_fbm_holder).mean(axis=1))\n",
    "\n",
    "plot(a, label=\"fbm\")\n",
    "plot(b, label=\"fbm_holder\")\n",
    "legend()\n",
    "ylabel(\"Absolute mean of wavelets coefficients\")\n",
    "xlabel(\"Scale (frequency)\")\n",
    "\n",
    "# linear regression to find the slope\n",
    "slope_fbm, b_fbm = np.polyfit(np.arange(\n",
    "    a.shape[0]), a, 1)  # 1 = degree of polynomial\n",
    "slope_fbm_holder, b_fbm_holder = np.polyfit(np.arange(b.shape[0]), b, 1)\n",
    "\n",
    "print(\"Fbm slope :\", slope_fbm)\n",
    "print(\"Holder fbm slope :\", slope_fbm_holder)\n",
    "\n",
    "# Did not manage to recover the 1/2 coefficient\n"
   ]
  }
 ],
 "metadata": {
  "kernelspec": {
   "display_name": "Python 3.10.2 64-bit",
   "language": "python",
   "name": "python3"
  },
  "language_info": {
   "codemirror_mode": {
    "name": "ipython",
    "version": 3
   },
   "file_extension": ".py",
   "mimetype": "text/x-python",
   "name": "python",
   "nbconvert_exporter": "python",
   "pygments_lexer": "ipython3",
   "version": "3.10.2 (tags/v3.10.2:a58ebcc, Jan 17 2022, 14:12:15) [MSC v.1929 64 bit (AMD64)]"
  },
  "vscode": {
   "interpreter": {
    "hash": "3f674cce88d736ed0af4f91f986332152988e4d080f9e8a754291934a46a3de6"
   }
  }
 },
 "nbformat": 4,
 "nbformat_minor": 2
}
